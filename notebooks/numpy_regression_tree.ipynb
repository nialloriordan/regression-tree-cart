{
 "cells": [
  {
   "cell_type": "code",
   "execution_count": null,
   "metadata": {},
   "outputs": [],
   "source": [
    "import numpy as np\n",
    "from sklearn.datasets import load_boston\n",
    "try:\n",
    "    from cart.utils import square_loss,rmse,display_seconds, train_test_split\n",
    "    from cart.grid_search_cross_validation import grid_search_cross_validation\n",
    "    from cart.regression_tree import Regression_Tree\n",
    "except:\n",
    "    print(\n",
    "        'Warning: cart module not installed, importing functions / classes by changing working directory.\\n'\n",
    "        'To install the cart module, please follow the instructions in the README.'\n",
    "    )\n",
    "    import sys\n",
    "    sys.path.append('../')\n",
    "    from cart.utils import square_loss,rmse,display_seconds, train_test_split\n",
    "    from cart.grid_search_cross_validation import grid_search_cross_validation\n",
    "    from cart.regression_tree import Regression_Tree"
   ]
  },
  {
   "cell_type": "markdown",
   "metadata": {},
   "source": [
    "## Load dataset and split into train and test"
   ]
  },
  {
   "cell_type": "code",
   "execution_count": null,
   "metadata": {},
   "outputs": [],
   "source": [
    "X, y = load_boston(return_X_y=True)\n",
    "X_train, X_test, y_train, y_test = train_test_split(X,y,train_size=0.8)"
   ]
  },
  {
   "cell_type": "markdown",
   "metadata": {},
   "source": [
    "## Determine optimal model using k fold cross validation"
   ]
  },
  {
   "cell_type": "code",
   "execution_count": null,
   "metadata": {},
   "outputs": [],
   "source": [
    "parameter_dict = dict(max_depth  = np.array([2,3,4,5,6,7,8,9,10,11]))\n",
    "cv_tree = grid_search_cross_validation(model_class = Regression_Tree,\n",
    "                             parameter_dict = parameter_dict,\n",
    "                             k = 5,\n",
    "                             loss_metric = 'square_loss'\n",
    "                            )\n",
    "cv_tree = cv_tree.fit(x = X_train, y = y_train)"
   ]
  },
  {
   "cell_type": "markdown",
   "metadata": {},
   "source": [
    "## Evaluate model using MSE and RMSE"
   ]
  },
  {
   "cell_type": "code",
   "execution_count": null,
   "metadata": {},
   "outputs": [],
   "source": [
    "print(f'Optimal tree depth: {cv_tree.depth}\\n')\n",
    "print('MSE:')\n",
    "print(f\"Training error (MSE): {square_loss(cv_tree.predict(X_train),y_train):.2f}\")\n",
    "print(f\"Testing error (MSE):  {square_loss(cv_tree.predict(X_test),y_test):.2f}\")\n",
    "print('\\nRMSE:')\n",
    "print(f\"Training error (RMSE): {rmse(cv_tree.predict(X_train),y_train):.2f}\")\n",
    "print(f\"Testing error (RMSE): {rmse(cv_tree.predict(X_test),y_test):.2f}\")"
   ]
  },
  {
   "cell_type": "code",
   "execution_count": null,
   "metadata": {},
   "outputs": [],
   "source": []
  }
 ],
 "metadata": {
  "kernelspec": {
   "display_name": "Python 3",
   "language": "python",
   "name": "python3"
  },
  "language_info": {
   "codemirror_mode": {
    "name": "ipython",
    "version": 3
   },
   "file_extension": ".py",
   "mimetype": "text/x-python",
   "name": "python",
   "nbconvert_exporter": "python",
   "pygments_lexer": "ipython3",
   "version": "3.7.3"
  }
 },
 "nbformat": 4,
 "nbformat_minor": 2
}
