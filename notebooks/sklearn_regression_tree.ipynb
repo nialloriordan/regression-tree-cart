{
 "cells": [
  {
   "cell_type": "code",
   "execution_count": null,
   "metadata": {},
   "outputs": [],
   "source": [
    "from sklearn.tree import DecisionTreeRegressor\n",
    "from sklearn.datasets import load_boston\n",
    "from sklearn.model_selection import cross_val_score, train_test_split,GridSearchCV\n",
    "from sklearn.metrics import mean_squared_error, make_scorer\n",
    "from math import sqrt"
   ]
  },
  {
   "cell_type": "markdown",
   "metadata": {},
   "source": [
    "## Load dataset and split into train and test"
   ]
  },
  {
   "cell_type": "code",
   "execution_count": null,
   "metadata": {},
   "outputs": [],
   "source": [
    "X, y = load_boston(return_X_y=True)\n",
    "X_train, X_test, y_train, y_test = train_test_split(X,y,train_size=0.8)"
   ]
  },
  {
   "cell_type": "markdown",
   "metadata": {},
   "source": [
    "## Determine optimal model using k fold cross validaton"
   ]
  },
  {
   "cell_type": "code",
   "execution_count": null,
   "metadata": {},
   "outputs": [],
   "source": [
    "tree = DecisionTreeRegressor()\n",
    "grid_param = {'max_depth': [2,3,4,5,6,7,8,9,10,11]}\n",
    "mse_score = make_scorer(mean_squared_error, greater_is_better = False)\n",
    "cv_tree = GridSearchCV(estimator = tree,\n",
    "                     param_grid = grid_param,\n",
    "                     cv = 10,\n",
    "                    scoring = mse_score)\n",
    "cv_tree = cv_tree.fit(X_train,y_train)"
   ]
  },
  {
   "cell_type": "markdown",
   "metadata": {},
   "source": [
    "## Evaluate Model using MSE and RMSE"
   ]
  },
  {
   "cell_type": "code",
   "execution_count": null,
   "metadata": {},
   "outputs": [],
   "source": [
    "print(f\"Optimal tree depth: {cv_tree.best_params_['max_depth']}\\n\")\n",
    "print('MSE:')\n",
    "print(f\"Training error (MSE): {mean_squared_error(cv_tree.predict(X_train),y_train):.2f}\")\n",
    "print(f\"Testing error (MSE):  {mean_squared_error(cv_tree.predict(X_test),y_test):.2f}\")\n",
    "print('\\nRMSE:')\n",
    "print(f\"Training error (RMSE): {sqrt(mean_squared_error(cv_tree.predict(X_train),y_train)):.2f}\")\n",
    "print(f\"Testing error (RMSE): {sqrt(mean_squared_error(cv_tree.predict(X_test),y_test)):.2f}\")"
   ]
  },
  {
   "cell_type": "code",
   "execution_count": null,
   "metadata": {},
   "outputs": [],
   "source": []
  }
 ],
 "metadata": {
  "kernelspec": {
   "display_name": "Python 3",
   "language": "python",
   "name": "python3"
  },
  "language_info": {
   "codemirror_mode": {
    "name": "ipython",
    "version": 3
   },
   "file_extension": ".py",
   "mimetype": "text/x-python",
   "name": "python",
   "nbconvert_exporter": "python",
   "pygments_lexer": "ipython3",
   "version": "3.7.3"
  }
 },
 "nbformat": 4,
 "nbformat_minor": 2
}
